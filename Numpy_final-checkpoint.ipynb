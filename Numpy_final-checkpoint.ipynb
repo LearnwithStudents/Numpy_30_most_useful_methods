{
 "cells": [
  {
   "cell_type": "code",
   "execution_count": 1,
   "id": "8b2bc991",
   "metadata": {},
   "outputs": [
    {
     "name": "stdout",
     "output_type": "stream",
     "text": [
      "Requirement already satisfied: numpy in c:\\users\\siddu\\anaconda3\\lib\\site-packages (1.20.3)\n"
     ]
    }
   ],
   "source": [
    "!pip3 install numpy"
   ]
  },
  {
   "cell_type": "code",
   "execution_count": 2,
   "id": "6e43b52e",
   "metadata": {},
   "outputs": [],
   "source": [
    "import numpy as np"
   ]
  },
  {
   "cell_type": "code",
   "execution_count": 3,
   "id": "a061806e",
   "metadata": {},
   "outputs": [],
   "source": [
    "a=[1,2,3]"
   ]
  },
  {
   "cell_type": "code",
   "execution_count": 4,
   "id": "0ed1588d",
   "metadata": {},
   "outputs": [
    {
     "data": {
      "text/plain": [
       "list"
      ]
     },
     "execution_count": 4,
     "metadata": {},
     "output_type": "execute_result"
    }
   ],
   "source": [
    "type(a)"
   ]
  },
  {
   "cell_type": "code",
   "execution_count": 5,
   "id": "23e538d2",
   "metadata": {},
   "outputs": [],
   "source": [
    "arr=np.array([1,2,3]) # indexes 0,1,2,3,....."
   ]
  },
  {
   "cell_type": "code",
   "execution_count": 6,
   "id": "dbb7a571",
   "metadata": {},
   "outputs": [
    {
     "data": {
      "text/plain": [
       "numpy.ndarray"
      ]
     },
     "execution_count": 6,
     "metadata": {},
     "output_type": "execute_result"
    }
   ],
   "source": [
    "type(arr)"
   ]
  },
  {
   "cell_type": "code",
   "execution_count": 7,
   "id": "50f596b4",
   "metadata": {},
   "outputs": [
    {
     "data": {
      "text/plain": [
       "3"
      ]
     },
     "execution_count": 7,
     "metadata": {},
     "output_type": "execute_result"
    }
   ],
   "source": [
    "arr[2]"
   ]
  },
  {
   "cell_type": "code",
   "execution_count": 8,
   "id": "39275bd3",
   "metadata": {},
   "outputs": [
    {
     "ename": "SyntaxError",
     "evalue": "invalid syntax (Temp/ipykernel_8688/28980596.py, line 1)",
     "output_type": "error",
     "traceback": [
      "\u001b[1;36m  File \u001b[1;32m\"C:\\Users\\siddu\\AppData\\Local\\Temp/ipykernel_8688/28980596.py\"\u001b[1;36m, line \u001b[1;32m1\u001b[0m\n\u001b[1;33m    0,1,2   0,1,2\u001b[0m\n\u001b[1;37m                 ^\u001b[0m\n\u001b[1;31mSyntaxError\u001b[0m\u001b[1;31m:\u001b[0m invalid syntax\n"
     ]
    }
   ],
   "source": [
    "                  0,1,2   0,1,2\n",
    "arr_2d=np.array([[1,2,3],[4,5,6]])\n",
    "                #  0       1"
   ]
  },
  {
   "cell_type": "code",
   "execution_count": null,
   "id": "31608c55",
   "metadata": {},
   "outputs": [],
   "source": [
    "arr_2d[1][1]"
   ]
  },
  {
   "cell_type": "code",
   "execution_count": null,
   "id": "81424900",
   "metadata": {},
   "outputs": [],
   "source": [
    "example=np.array([45,1,'good',90],dtype='object')"
   ]
  },
  {
   "cell_type": "code",
   "execution_count": null,
   "id": "3f9af5fa",
   "metadata": {},
   "outputs": [],
   "source": [
    "example.sort()"
   ]
  },
  {
   "cell_type": "code",
   "execution_count": null,
   "id": "af3cbc55",
   "metadata": {},
   "outputs": [],
   "source": [
    "example"
   ]
  },
  {
   "cell_type": "code",
   "execution_count": null,
   "id": "3002e860",
   "metadata": {},
   "outputs": [],
   "source": [
    "example.dtype"
   ]
  },
  {
   "cell_type": "code",
   "execution_count": null,
   "id": "c0a8aa56",
   "metadata": {},
   "outputs": [],
   "source": [
    "a=np.array([1,2,3])\n",
    "b=np.array([4,5,6])"
   ]
  },
  {
   "cell_type": "code",
   "execution_count": null,
   "id": "660ee4a2",
   "metadata": {},
   "outputs": [],
   "source": [
    "c=np.concatenate((a,b))"
   ]
  },
  {
   "cell_type": "code",
   "execution_count": null,
   "id": "bf463281",
   "metadata": {},
   "outputs": [],
   "source": [
    "c"
   ]
  },
  {
   "cell_type": "code",
   "execution_count": null,
   "id": "2e7b0685",
   "metadata": {},
   "outputs": [],
   "source": [
    "a=np.array([37,88,1,900])"
   ]
  },
  {
   "cell_type": "code",
   "execution_count": null,
   "id": "4fadca4a",
   "metadata": {},
   "outputs": [],
   "source": [
    "min(a)"
   ]
  },
  {
   "cell_type": "code",
   "execution_count": null,
   "id": "a785bee0",
   "metadata": {},
   "outputs": [],
   "source": [
    "max(a)"
   ]
  },
  {
   "cell_type": "code",
   "execution_count": null,
   "id": "21de9e23",
   "metadata": {},
   "outputs": [],
   "source": [
    "#  0 and 1 ==> 1\n",
    "#  1 and 1 ==> 1\n",
    "#  0 and 0 ==> 0\n",
    "#  1 and 0 ==> 1"
   ]
  },
  {
   "cell_type": "code",
   "execution_count": 35,
   "id": "b6764cd9",
   "metadata": {},
   "outputs": [],
   "source": [
    "a = np.array([0,0,0])"
   ]
  },
  {
   "cell_type": "code",
   "execution_count": 36,
   "id": "627a3afb",
   "metadata": {},
   "outputs": [
    {
     "data": {
      "text/plain": [
       "False"
      ]
     },
     "execution_count": 36,
     "metadata": {},
     "output_type": "execute_result"
    }
   ],
   "source": [
    "np.any(a)"
   ]
  },
  {
   "cell_type": "code",
   "execution_count": 37,
   "id": "ed106b1b",
   "metadata": {},
   "outputs": [],
   "source": [
    "a=np.array([90,20,10])"
   ]
  },
  {
   "cell_type": "code",
   "execution_count": 38,
   "id": "4812d108",
   "metadata": {},
   "outputs": [
    {
     "data": {
      "text/plain": [
       "120"
      ]
     },
     "execution_count": 38,
     "metadata": {},
     "output_type": "execute_result"
    }
   ],
   "source": [
    "np.sum(a)"
   ]
  },
  {
   "cell_type": "code",
   "execution_count": 40,
   "id": "7172326f",
   "metadata": {},
   "outputs": [
    {
     "data": {
      "text/plain": [
       "40.0"
      ]
     },
     "execution_count": 40,
     "metadata": {},
     "output_type": "execute_result"
    }
   ],
   "source": [
    "np.mean(a)\n",
    "(90+20+10)/3"
   ]
  },
  {
   "cell_type": "code",
   "execution_count": 41,
   "id": "0876f97a",
   "metadata": {},
   "outputs": [
    {
     "data": {
      "text/plain": [
       "(3,)"
      ]
     },
     "execution_count": 41,
     "metadata": {},
     "output_type": "execute_result"
    }
   ],
   "source": [
    "a.shape"
   ]
  },
  {
   "cell_type": "code",
   "execution_count": 42,
   "id": "d9d983e6",
   "metadata": {},
   "outputs": [
    {
     "data": {
      "text/plain": [
       "array([90, 20, 10])"
      ]
     },
     "execution_count": 42,
     "metadata": {},
     "output_type": "execute_result"
    }
   ],
   "source": [
    "a"
   ]
  },
  {
   "cell_type": "code",
   "execution_count": 43,
   "id": "f5307b97",
   "metadata": {},
   "outputs": [],
   "source": [
    "b=np.copy(a)"
   ]
  },
  {
   "cell_type": "code",
   "execution_count": 44,
   "id": "6ec11cf6",
   "metadata": {},
   "outputs": [
    {
     "data": {
      "text/plain": [
       "array([90, 20, 10])"
      ]
     },
     "execution_count": 44,
     "metadata": {},
     "output_type": "execute_result"
    }
   ],
   "source": [
    "b"
   ]
  },
  {
   "cell_type": "code",
   "execution_count": 45,
   "id": "64b94cc7",
   "metadata": {},
   "outputs": [],
   "source": [
    "n=np.array([10.9,0.5,1.1])"
   ]
  },
  {
   "cell_type": "code",
   "execution_count": 47,
   "id": "73298b06",
   "metadata": {},
   "outputs": [
    {
     "data": {
      "text/plain": [
       "array([11.,  0.,  1.])"
      ]
     },
     "execution_count": 47,
     "metadata": {},
     "output_type": "execute_result"
    }
   ],
   "source": [
    "np.round(n)"
   ]
  },
  {
   "cell_type": "code",
   "execution_count": 49,
   "id": "d01588e3",
   "metadata": {},
   "outputs": [
    {
     "data": {
      "text/plain": [
       "array([1., 1., 1., 1., 1., 1., 1., 1., 1., 1.])"
      ]
     },
     "execution_count": 49,
     "metadata": {},
     "output_type": "execute_result"
    }
   ],
   "source": [
    "np.ones(10)"
   ]
  },
  {
   "cell_type": "code",
   "execution_count": 50,
   "id": "c17ecec0",
   "metadata": {},
   "outputs": [
    {
     "data": {
      "text/plain": [
       "array([0., 0., 0., 0., 0., 0., 0., 0., 0., 0.])"
      ]
     },
     "execution_count": 50,
     "metadata": {},
     "output_type": "execute_result"
    }
   ],
   "source": [
    "np.zeros(10)"
   ]
  },
  {
   "cell_type": "code",
   "execution_count": 53,
   "id": "4435ffcf",
   "metadata": {},
   "outputs": [],
   "source": [
    "a=np.random.random(10)"
   ]
  },
  {
   "cell_type": "code",
   "execution_count": 54,
   "id": "fb401b69",
   "metadata": {},
   "outputs": [
    {
     "data": {
      "text/plain": [
       "array([0.47389059, 0.46683438, 0.41147666, 0.5199097 , 0.54929643,\n",
       "       0.62652978, 0.67911597, 0.94105142, 0.81023698, 0.48923032])"
      ]
     },
     "execution_count": 54,
     "metadata": {},
     "output_type": "execute_result"
    }
   ],
   "source": [
    "a"
   ]
  },
  {
   "cell_type": "code",
   "execution_count": 57,
   "id": "1b7ec69e",
   "metadata": {},
   "outputs": [],
   "source": [
    "a=np.random.randint(10,30,10)"
   ]
  },
  {
   "cell_type": "code",
   "execution_count": 58,
   "id": "1ebd9a93",
   "metadata": {},
   "outputs": [
    {
     "data": {
      "text/plain": [
       "array([16, 24, 27, 26, 16, 28, 21, 16, 26, 25])"
      ]
     },
     "execution_count": 58,
     "metadata": {},
     "output_type": "execute_result"
    }
   ],
   "source": [
    "a"
   ]
  },
  {
   "cell_type": "code",
   "execution_count": 60,
   "id": "737951f6",
   "metadata": {},
   "outputs": [
    {
     "data": {
      "text/plain": [
       "array([[1., 0., 0., 0.],\n",
       "       [0., 1., 0., 0.],\n",
       "       [0., 0., 1., 0.],\n",
       "       [0., 0., 0., 1.]])"
      ]
     },
     "execution_count": 60,
     "metadata": {},
     "output_type": "execute_result"
    }
   ],
   "source": [
    "np.eye(4)"
   ]
  },
  {
   "cell_type": "code",
   "execution_count": 63,
   "id": "4925f3ab",
   "metadata": {},
   "outputs": [
    {
     "data": {
      "text/plain": [
       "array([0, 1, 2, 3, 4, 5, 6, 7, 8, 9])"
      ]
     },
     "execution_count": 63,
     "metadata": {},
     "output_type": "execute_result"
    }
   ],
   "source": [
    "np.arange(10)"
   ]
  },
  {
   "cell_type": "code",
   "execution_count": 79,
   "id": "6883cc36",
   "metadata": {},
   "outputs": [],
   "source": [
    "st=np.array(['Hey','welcome to learnWithstudents'])"
   ]
  },
  {
   "cell_type": "code",
   "execution_count": 80,
   "id": "c276a6da",
   "metadata": {},
   "outputs": [
    {
     "data": {
      "text/plain": [
       "array(['Hey', 'Welcome to learnwithstudents'], dtype='<U28')"
      ]
     },
     "execution_count": 80,
     "metadata": {},
     "output_type": "execute_result"
    }
   ],
   "source": [
    "np.char.capitalize(st)"
   ]
  },
  {
   "cell_type": "code",
   "execution_count": 81,
   "id": "6b55b39d",
   "metadata": {},
   "outputs": [
    {
     "data": {
      "text/plain": [
       "array(['hey', 'welcome to learnwithstudents'], dtype='<U28')"
      ]
     },
     "execution_count": 81,
     "metadata": {},
     "output_type": "execute_result"
    }
   ],
   "source": [
    "np.char.lower(st)"
   ]
  },
  {
   "cell_type": "code",
   "execution_count": 82,
   "id": "670c96f5",
   "metadata": {},
   "outputs": [
    {
     "data": {
      "text/plain": [
       "array(['HEY', 'WELCOME TO LEARNWITHSTUDENTS'], dtype='<U28')"
      ]
     },
     "execution_count": 82,
     "metadata": {},
     "output_type": "execute_result"
    }
   ],
   "source": [
    "np.char.upper(st)"
   ]
  },
  {
   "cell_type": "code",
   "execution_count": 86,
   "id": "f0ef5dce",
   "metadata": {},
   "outputs": [
    {
     "name": "stdout",
     "output_type": "stream",
     "text": [
      "3.0\n"
     ]
    }
   ],
   "source": [
    "n=np.array([1,2,3,4,5])\n",
    "\n",
    "np.median(n)\n",
    "print(np.mean(n))"
   ]
  },
  {
   "cell_type": "code",
   "execution_count": 87,
   "id": "1525617b",
   "metadata": {
    "scrolled": true
   },
   "outputs": [
    {
     "data": {
      "text/plain": [
       "1.4142135623730951"
      ]
     },
     "execution_count": 87,
     "metadata": {},
     "output_type": "execute_result"
    }
   ],
   "source": [
    "np.std(n)"
   ]
  },
  {
   "cell_type": "code",
   "execution_count": 88,
   "id": "71850956",
   "metadata": {},
   "outputs": [],
   "source": [
    "a=np.array([1,2,3])\n",
    "b=np.array([4,5,6])"
   ]
  },
  {
   "cell_type": "code",
   "execution_count": 89,
   "id": "d4c9e24d",
   "metadata": {},
   "outputs": [],
   "source": [
    "sub=np.subtract(a,b)"
   ]
  },
  {
   "cell_type": "code",
   "execution_count": 90,
   "id": "222aa40f",
   "metadata": {},
   "outputs": [
    {
     "data": {
      "text/plain": [
       "array([-3, -3, -3])"
      ]
     },
     "execution_count": 90,
     "metadata": {},
     "output_type": "execute_result"
    }
   ],
   "source": [
    "sub"
   ]
  },
  {
   "cell_type": "code",
   "execution_count": 91,
   "id": "604d6234",
   "metadata": {},
   "outputs": [],
   "source": [
    "add=np.add(a,b)"
   ]
  },
  {
   "cell_type": "code",
   "execution_count": 92,
   "id": "eab1ae75",
   "metadata": {},
   "outputs": [
    {
     "data": {
      "text/plain": [
       "array([5, 7, 9])"
      ]
     },
     "execution_count": 92,
     "metadata": {},
     "output_type": "execute_result"
    }
   ],
   "source": [
    "add"
   ]
  },
  {
   "cell_type": "code",
   "execution_count": 93,
   "id": "0b6fd325",
   "metadata": {},
   "outputs": [],
   "source": [
    "mul=np.multiply(a,b)"
   ]
  },
  {
   "cell_type": "code",
   "execution_count": 94,
   "id": "e0c36d76",
   "metadata": {},
   "outputs": [
    {
     "data": {
      "text/plain": [
       "array([ 4, 10, 18])"
      ]
     },
     "execution_count": 94,
     "metadata": {},
     "output_type": "execute_result"
    }
   ],
   "source": [
    "mul"
   ]
  },
  {
   "cell_type": "code",
   "execution_count": 100,
   "id": "b9903ec8",
   "metadata": {},
   "outputs": [],
   "source": [
    "datasets=np.genfromtxt('top_1000_instagrammers.csv',encoding=None,dtype=None,delimiter=',')"
   ]
  },
  {
   "cell_type": "code",
   "execution_count": 101,
   "id": "19d83547",
   "metadata": {},
   "outputs": [
    {
     "data": {
      "text/plain": [
       "array([['Name', 'Rank', 'Category', ..., 'Audience Country',\n",
       "        'Authentic Engagement', 'Engagement Avg.'],\n",
       "       ['cristiano', '1', 'Sports with a ball', ..., 'India', '5.5M',\n",
       "        '6.6M'],\n",
       "       ['leomessi', '2', 'Sports with a ballFamily', ..., 'Argentina',\n",
       "        '3.6M', '4.8M'],\n",
       "       ...,\n",
       "       ['memphisdepay', '998', 'Sports with a ball', ..., 'France',\n",
       "        '76.4K', '135.5K'],\n",
       "       ['arminzareeiofficial', '999', '', ..., 'Iran', '135.4K', '214K'],\n",
       "       ['noorstars', '1000', 'Shows', ..., 'Iraq', '117.6K', '157.6K']],\n",
       "      dtype='<U60')"
      ]
     },
     "execution_count": 101,
     "metadata": {},
     "output_type": "execute_result"
    }
   ],
   "source": [
    "datasets"
   ]
  },
  {
   "cell_type": "code",
   "execution_count": 102,
   "id": "c3b07b7d",
   "metadata": {},
   "outputs": [
    {
     "name": "stdout",
     "output_type": "stream",
     "text": [
      "Rank of A: 3\n",
      "\n",
      "Trace of A: 11\n",
      "\n",
      "Determinant of A: -306.0\n",
      "\n",
      "Inverse of A:\n",
      " [[ 0.17647059 -0.00326797 -0.02287582]\n",
      " [ 0.05882353 -0.13071895  0.08496732]\n",
      " [-0.11764706  0.1503268   0.05228758]]\n",
      "\n",
      "Matrix A raised to power 3:\n",
      " [[336 162 228]\n",
      " [406 162 469]\n",
      " [698 702 905]]\n"
     ]
    }
   ],
   "source": [
    "A = np.array([[6, 1, 1],\n",
    "              [4, -2, 5],\n",
    "              [2, 8, 7]])\n",
    "  \n",
    "print(\"Rank of A:\", np.linalg.matrix_rank(A))\n",
    "\n",
    "  \n",
    "print(\"\\nTrace of A:\", np.trace(A))\n",
    "  \n",
    "print(\"\\nDeterminant of A:\", np.linalg.det(A))\n",
    "  \n",
    "print(\"\\nInverse of A:\\n\", np.linalg.inv(A))\n",
    "  \n",
    "print(\"\\nMatrix A raised to power 3:\\n\", np.linalg.matrix_power(A, 3))"
   ]
  },
  {
   "cell_type": "code",
   "execution_count": null,
   "id": "d03ef9ee",
   "metadata": {},
   "outputs": [],
   "source": []
  }
 ],
 "metadata": {
  "kernelspec": {
   "display_name": "Python 3 (ipykernel)",
   "language": "python",
   "name": "python3"
  },
  "language_info": {
   "codemirror_mode": {
    "name": "ipython",
    "version": 3
   },
   "file_extension": ".py",
   "mimetype": "text/x-python",
   "name": "python",
   "nbconvert_exporter": "python",
   "pygments_lexer": "ipython3",
   "version": "3.9.7"
  }
 },
 "nbformat": 4,
 "nbformat_minor": 5
}
